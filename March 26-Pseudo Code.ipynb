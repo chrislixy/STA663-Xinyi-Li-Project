{
 "metadata": {
  "name": "",
  "signature": "sha256:9fde3a7dff8f74197489f04a20656e84cc204bfd1040853a64d19aa3ae870ca8"
 },
 "nbformat": 3,
 "nbformat_minor": 0,
 "worksheets": [
  {
   "cells": [
    {
     "cell_type": "heading",
     "level": 3,
     "metadata": {},
     "source": [
      "Pseudo Code"
     ]
    },
    {
     "cell_type": "markdown",
     "metadata": {},
     "source": [
      "Describe the process:\n",
      "\n",
      "\n",
      "- Let c_1 be the root restaurant.\n",
      "- For each level $\\ell\\in\\{2,...,L\\}$:\n",
      "  - Draw a table from restaurant $c_{l-1}$ with $P(occupied\\ table\\ i|previous\\ customers)=\\frac{m_i}{\\gamma+m_i-1}$ and $P(next\\ occupied\\ table\\ i|previous\\ customers)=\\frac{\\gamma}{\\gamma+m_i-1}$.\n",
      "  - Set $c_l$ to be the restaurant referred to by that table.\n",
      "- Draw an $L$-dimensional topic proportion vector $\\theta$ from Dir($\\alpha$)\n",
      "- For each word $n\\in\\{1,...,N\\}$:\n",
      "  - Draw $z\\in\\{1,...,L\\}$ from Mult($\\theta$)\n",
      "  - Draw $w_n$ from the topic associated with restaurant $c_z$\n",
      "  \n"
     ]
    },
    {
     "cell_type": "markdown",
     "metadata": {},
     "source": [
      "The most important part of the algorithm is Gibbs Sampler\n",
      "\n",
      "- For each topic,\n",
      "    - Draw path $c_{d}$ from its full conditional\n",
      "    - Draw $z_{n,d}$ from its full conditional"
     ]
    },
    {
     "cell_type": "markdown",
     "metadata": {},
     "source": [
      "I would refer to MCMC part of the lecture or implement Gibbs Sampler with R."
     ]
    },
    {
     "cell_type": "heading",
     "level": 3,
     "metadata": {},
     "source": [
      "Unit Tests"
     ]
    },
    {
     "cell_type": "markdown",
     "metadata": {},
     "source": [
      "Without actually implement the algorithm, I propose some unit tests that I may use.\n",
      "\n",
      "- Test for correct input\n",
      "    - initial values cannot be NA, string, etc\n",
      "    - parameters in multinomial distribution sum to 1\n",
      "    - try what happens if all weights in multinomial distribution is at one dimension\n",
      "- Test for correct output\n",
      "    - try known case (?)\n",
      "    - try change the order of parameters\n",
      "- Test for time\n",
      "    - test for time~sample size (not a unit test, for optimization use)\n",
      "\n",
      "\n",
      "Can devide the algorithm into several functions and test one by one."
     ]
    },
    {
     "cell_type": "code",
     "collapsed": false,
     "input": [],
     "language": "python",
     "metadata": {},
     "outputs": []
    }
   ],
   "metadata": {}
  }
 ]
}