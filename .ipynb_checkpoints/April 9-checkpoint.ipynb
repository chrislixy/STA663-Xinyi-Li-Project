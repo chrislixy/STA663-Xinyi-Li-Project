{
 "metadata": {
  "name": "",
  "signature": "sha256:e40f362bb5c663f110445a19971c7624c9a481566492f373bc2a2cc339140642"
 },
 "nbformat": 3,
 "nbformat_minor": 0,
 "worksheets": [
  {
   "cells": [
    {
     "cell_type": "markdown",
     "metadata": {},
     "source": [
      "Optimizing Algorithm\n",
      "\n",
      "I think it is hard to make gibbs sampler run faster since each variable updates alternatively. However, maybe we can start with multiple points, and run them simultaneously to fully use the computation power. \n",
      "\n",
      "One other way is to make the read-in process faster. For example, use some specialized packages or languages as C++."
     ]
    },
    {
     "cell_type": "code",
     "collapsed": false,
     "input": [],
     "language": "python",
     "metadata": {},
     "outputs": []
    }
   ],
   "metadata": {}
  }
 ]
}