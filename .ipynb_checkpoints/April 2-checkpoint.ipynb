{
 "metadata": {
  "name": "",
  "signature": "sha256:a34db5604e2fac5545919a57e6be766d9e500598574affe88a787e15bf62a6b3"
 },
 "nbformat": 3,
 "nbformat_minor": 0,
 "worksheets": [
  {
   "cells": [
    {
     "cell_type": "heading",
     "level": 3,
     "metadata": {},
     "source": [
      "Initial Code"
     ]
    },
    {
     "cell_type": "code",
     "collapsed": false,
     "input": [
      "def initi(X, K):\n",
      "    C = [X[0]]\n",
      "    for k in range(1, K):\n",
      "        D = numpy.array([min([scipy.inner(c-x,c-x) for c in C]) for x in X])\n",
      "        probs = D/D.sum()\n",
      "        cumprobs = probs.cumsum()\n",
      "        r = scipy.rand()\n",
      "        for j,p in enumerate(cumprobs):\n",
      "            if r < p:\n",
      "                i = j\n",
      "                break\n",
      "        C.append(X[i])\n",
      "    return C\n",
      "\n",
      "def logLikelihood(beta, points):\n",
      "    return 1/(1.0+et**(-(np.dot(beta,points))))\n",
      "\n",
      "def nearest_cluster_center(point, cc):\n",
      "    index.min = point.group\n",
      "    distance.min = FLOAT_MAX\n",
      "    for i, c in enumerate(cc):\n",
      "        d = sqrd(c, point)\n",
      "        if distance.min > d:\n",
      "            distance.min = d\n",
      "            index.min = i\n",
      "    return (index.min, distance.min)\n",
      "\n",
      "def sqrd(a, b):\n",
      "        return (a.x-b.x)**2+(a.y-b.y)**2"
     ],
     "language": "python",
     "metadata": {},
     "outputs": []
    }
   ],
   "metadata": {}
  }
 ]
}